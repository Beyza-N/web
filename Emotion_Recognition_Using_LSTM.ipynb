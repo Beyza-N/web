{
  "metadata": {
    "kernelspec": {
      "display_name": "Python 3",
      "name": "python3"
    },
    "language_info": {
      "name": "python",
      "version": "3.10.12",
      "mimetype": "text/x-python",
      "codemirror_mode": {
        "name": "ipython",
        "version": 3
      },
      "pygments_lexer": "ipython3",
      "nbconvert_exporter": "python",
      "file_extension": ".py"
    },
    "kaggle": {
      "accelerator": "none",
      "dataSources": [
        {
          "sourceId": 2617192,
          "sourceType": "datasetVersion",
          "datasetId": 1590810
        },
        {
          "sourceId": 4140,
          "sourceType": "datasetVersion",
          "datasetId": 2477
        },
        {
          "sourceId": 2510329,
          "sourceType": "datasetVersion",
          "datasetId": 1520310
        },
        {
          "sourceId": 800230,
          "sourceType": "datasetVersion",
          "datasetId": 1305
        },
        {
          "sourceId": 742210,
          "sourceType": "datasetVersion",
          "datasetId": 17
        }
      ],
      "dockerImageVersionId": 30587,
      "isInternetEnabled": true,
      "language": "python",
      "sourceType": "notebook",
      "isGpuEnabled": false
    },
    "colab": {
      "name": "Emotion Recognition Using LSTM",
      "provenance": [],
      "include_colab_link": true
    }
  },
  "nbformat_minor": 0,
  "nbformat": 4,
  "cells": [
    {
      "cell_type": "markdown",
      "metadata": {
        "id": "view-in-github",
        "colab_type": "text"
      },
      "source": [
        "<a href=\"https://colab.research.google.com/github/Beyza-N/web/blob/main/Emotion_Recognition_Using_LSTM.ipynb\" target=\"_parent\"><img src=\"https://colab.research.google.com/assets/colab-badge.svg\" alt=\"Open In Colab\"/></a>"
      ]
    },
    {
      "source": [
        "\n",
        "# IMPORTANT: RUN THIS CELL IN ORDER TO IMPORT YOUR KAGGLE DATA SOURCES\n",
        "# TO THE CORRECT LOCATION (/kaggle/input) IN YOUR NOTEBOOK,\n",
        "# THEN FEEL FREE TO DELETE THIS CELL.\n",
        "# NOTE: THIS NOTEBOOK ENVIRONMENT DIFFERS FROM KAGGLE'S PYTHON\n",
        "# ENVIRONMENT SO THERE MAY BE MISSING LIBRARIES USED BY YOUR\n",
        "# NOTEBOOK.\n",
        "\n",
        "import os\n",
        "import sys\n",
        "from tempfile import NamedTemporaryFile\n",
        "from urllib.request import urlopen\n",
        "from urllib.parse import unquote, urlparse\n",
        "from urllib.error import HTTPError\n",
        "from zipfile import ZipFile\n",
        "import tarfile\n",
        "import shutil\n",
        "\n",
        "CHUNK_SIZE = 40960\n",
        "DATA_SOURCE_MAPPING = 'sentiment140:https%3A%2F%2Fstorage.googleapis.com%2Fkaggle-data-sets%2F2477%2F4140%2Fbundle%2Farchive.zip%3FX-Goog-Algorithm%3DGOOG4-RSA-SHA256%26X-Goog-Credential%3Dgcp-kaggle-com%2540kaggle-161607.iam.gserviceaccount.com%252F20240814%252Fauto%252Fstorage%252Fgoog4_request%26X-Goog-Date%3D20240814T111211Z%26X-Goog-Expires%3D259200%26X-Goog-SignedHeaders%3Dhost%26X-Goog-Signature%3D0142c1bb8844b55b8a4924e8238e83985219b65d5b16c95fa0823d2257f522af063b8758d212f0fa2df6ef7411437e8d30e0e00dbc656d5bc594d4a40c9d5d6f48377b4db4956c3e8926a607047f24245eb4e55a7fcc58cd57211766a55431ea6985972f96e5e81e57c0f431b4f6a8f5152e6d88c30a06c7a828412a1a48fdd833dfbced9b2dd407f81485eecb8d199f17bb54ecde2a81dca7d3d6a2388d04254448dd9b14fa1c4fb3188ef485ba813a00f7251d7d4d74572587b4195b3aa14e381fcaedc36241482f0942c601d65264eec7a7cc62c0d2a75192e18e9a6ac3f9c4f172633badf059eb507cce73d1219ff656aeed2e719c224b5cb6cee68450fe,twitter-airline-sentiment:https%3A%2F%2Fstorage.googleapis.com%2Fkaggle-data-sets%2F17%2F742210%2Fbundle%2Farchive.zip%3FX-Goog-Algorithm%3DGOOG4-RSA-SHA256%26X-Goog-Credential%3Dgcp-kaggle-com%2540kaggle-161607.iam.gserviceaccount.com%252F20240814%252Fauto%252Fstorage%252Fgoog4_request%26X-Goog-Date%3D20240814T111211Z%26X-Goog-Expires%3D259200%26X-Goog-SignedHeaders%3Dhost%26X-Goog-Signature%3D830f6a7bd492ccf9deae4451e0f3552f6f7e53ed4eb8b5558a097e22a6da8e76ac1f696c681fe9e5b838ff10d0cf35fd6fed3f25ff5780961fab6fd818f52880c3604cb211cf024e554ec7e6348fde51ee3087b5d8aa7cfa4543c82fbf1db66c1cea17f31727a0187d36c2a5378d776da89cb4377d7e57fa1866b5f06d734a1caffc5aa26b49d7d9422e67844e22906e7481bc45c4e60cd8841749f2a21d5074061b7371b0b903763c7b1a3a20556c277bf5b6adda9fef03e6722e0a45ab4f7536f58e71e4da6545ae87fae2a7ad37b0f603af864e862d3107dd6253148c321a0df560d313d8d09b010b395de38ee9ab16d8fc131e7481b72153876bf8380a94,amazonreviews:https%3A%2F%2Fstorage.googleapis.com%2Fkaggle-data-sets%2F1305%2F800230%2Fbundle%2Farchive.zip%3FX-Goog-Algorithm%3DGOOG4-RSA-SHA256%26X-Goog-Credential%3Dgcp-kaggle-com%2540kaggle-161607.iam.gserviceaccount.com%252F20240814%252Fauto%252Fstorage%252Fgoog4_request%26X-Goog-Date%3D20240814T111211Z%26X-Goog-Expires%3D259200%26X-Goog-SignedHeaders%3Dhost%26X-Goog-Signature%3D45b4ca8d651fa3a59c8e85406f57004ff2a244a71cb209d32b14c50c42b4f1a2cb1be4854348fd71ffa67d278cc97375ad7894d7d659883519ec0b79b96aacd50243d586e3620d049f62f9432c34898c949f3dd46f45e8db6650ed3dce755b5936f3bdec37f7b9825d96c16963854726a087b115e4bea4e1e4d4669121b7cb507776697a2b94379cd3e1d61351f9868d0a3f50b69c094029a8d90fc31fca15e6998985985ae495a741e9aa001f3b1fa212127f64e216221782bfad9a291690b02a23d5d8e9dd82c7ab271ee873508c12c9578445bb6a467dc2d7960083c9b94b28cc8da6b670c0908864b72812e9d8e5a2cb1bfc78280196efe4cfea1b121ac0,twitter-entity-sentiment-analysis:https%3A%2F%2Fstorage.googleapis.com%2Fkaggle-data-sets%2F1520310%2F2510329%2Fbundle%2Farchive.zip%3FX-Goog-Algorithm%3DGOOG4-RSA-SHA256%26X-Goog-Credential%3Dgcp-kaggle-com%2540kaggle-161607.iam.gserviceaccount.com%252F20240814%252Fauto%252Fstorage%252Fgoog4_request%26X-Goog-Date%3D20240814T111211Z%26X-Goog-Expires%3D259200%26X-Goog-SignedHeaders%3Dhost%26X-Goog-Signature%3D427c69896468e9e058efb9e962b26a04f360a510e17a9723efb348d2a12d801883670c8e687c78f4c5e8c1bd90c9127fdc69da778bc9d943e8723f8a1142e54e4a225e0a1485b977881ae35842d60487060af613698e33429390af72fe824edfe3cf60a78ba85a0d8fb272902753edd74f26c9bf52840e95c38dfffeef32b49f5c8fb83c191ad204ee34a51ed9aa46a1eac534a49b9b9f70f867b27bc3f3f471c7995514b85ec98ea46a7b6fccc4e300d7916c1562a07d3e08c0b387b8fcb99d3196651c86ca1034eb0de4b68a7c434442e0a45f7bb24f8ced80db1cb9cc954c533e8ab0c0dc5fe3b65d1f5d55a48b6948739dea901e613ea85b5457fd4cf4d1,emotion-dataset:https%3A%2F%2Fstorage.googleapis.com%2Fkaggle-data-sets%2F1590810%2F2617192%2Fbundle%2Farchive.zip%3FX-Goog-Algorithm%3DGOOG4-RSA-SHA256%26X-Goog-Credential%3Dgcp-kaggle-com%2540kaggle-161607.iam.gserviceaccount.com%252F20240814%252Fauto%252Fstorage%252Fgoog4_request%26X-Goog-Date%3D20240814T111211Z%26X-Goog-Expires%3D259200%26X-Goog-SignedHeaders%3Dhost%26X-Goog-Signature%3D5c5fbb4fc785d737e94896335396fbda9345a8e5d6050893f376498702656aae8cd444730bc57d32378bb3732fbd982179a07cb67b2f3c333dac2d5d77ea2207149b528ce8b2c592142525ab7d1c730deb9f1174d5ec54f7da88ff1ec1d87c9817080332b66d4d96a73811c6ac0b104aab8898ea8d59d8fe92d3d94b06d866aa32d5169e65b8b94e723fd52ebb1e978b3e7064e00a45cdabf00724c083f69d4ffc3b7987c230d4d9bd814073e36dba6ccb31dc36d1c8f5263939cf1fa06f1396563a66bbe814603f151008c350782d1f8ced3a9e747d0166df10d3d34f637229b14c2d30c2d494a07bd59c1231278d31b7d92250419ee2c04a55dbdc89d63c92'\n",
        "\n",
        "KAGGLE_INPUT_PATH='/kaggle/input'\n",
        "KAGGLE_WORKING_PATH='/kaggle/working'\n",
        "KAGGLE_SYMLINK='kaggle'\n",
        "\n",
        "!umount /kaggle/input/ 2> /dev/null\n",
        "shutil.rmtree('/kaggle/input', ignore_errors=True)\n",
        "os.makedirs(KAGGLE_INPUT_PATH, 0o777, exist_ok=True)\n",
        "os.makedirs(KAGGLE_WORKING_PATH, 0o777, exist_ok=True)\n",
        "\n",
        "try:\n",
        "  os.symlink(KAGGLE_INPUT_PATH, os.path.join(\"..\", 'input'), target_is_directory=True)\n",
        "except FileExistsError:\n",
        "  pass\n",
        "try:\n",
        "  os.symlink(KAGGLE_WORKING_PATH, os.path.join(\"..\", 'working'), target_is_directory=True)\n",
        "except FileExistsError:\n",
        "  pass\n",
        "\n",
        "for data_source_mapping in DATA_SOURCE_MAPPING.split(','):\n",
        "    directory, download_url_encoded = data_source_mapping.split(':')\n",
        "    download_url = unquote(download_url_encoded)\n",
        "    filename = urlparse(download_url).path\n",
        "    destination_path = os.path.join(KAGGLE_INPUT_PATH, directory)\n",
        "    try:\n",
        "        with urlopen(download_url) as fileres, NamedTemporaryFile() as tfile:\n",
        "            total_length = fileres.headers['content-length']\n",
        "            print(f'Downloading {directory}, {total_length} bytes compressed')\n",
        "            dl = 0\n",
        "            data = fileres.read(CHUNK_SIZE)\n",
        "            while len(data) > 0:\n",
        "                dl += len(data)\n",
        "                tfile.write(data)\n",
        "                done = int(50 * dl / int(total_length))\n",
        "                sys.stdout.write(f\"\\r[{'=' * done}{' ' * (50-done)}] {dl} bytes downloaded\")\n",
        "                sys.stdout.flush()\n",
        "                data = fileres.read(CHUNK_SIZE)\n",
        "            if filename.endswith('.zip'):\n",
        "              with ZipFile(tfile) as zfile:\n",
        "                zfile.extractall(destination_path)\n",
        "            else:\n",
        "              with tarfile.open(tfile.name) as tarfile:\n",
        "                tarfile.extractall(destination_path)\n",
        "            print(f'\\nDownloaded and uncompressed: {directory}')\n",
        "    except HTTPError as e:\n",
        "        print(f'Failed to load (likely expired) {download_url} to path {destination_path}')\n",
        "        continue\n",
        "    except OSError as e:\n",
        "        print(f'Failed to load {download_url} to path {destination_path}')\n",
        "        continue\n",
        "\n",
        "print('Data source import complete.')\n"
      ],
      "metadata": {
        "id": "PNW-rVxqlqUv",
        "outputId": "05444a88-da03-4539-a744-c75d240c57fa",
        "colab": {
          "base_uri": "https://localhost:8080/"
        }
      },
      "cell_type": "code",
      "outputs": [
        {
          "output_type": "stream",
          "name": "stdout",
          "text": [
            "Downloading sentiment140, 84855679 bytes compressed\n",
            "[==================================================] 84855679 bytes downloaded\n",
            "Downloaded and uncompressed: sentiment140\n",
            "Downloading twitter-airline-sentiment, 2678605 bytes compressed\n",
            "[==================================================] 2678605 bytes downloaded\n",
            "Downloaded and uncompressed: twitter-airline-sentiment\n",
            "Downloading amazonreviews, 517080965 bytes compressed\n",
            "[==================================================] 517080965 bytes downloaded\n",
            "Downloaded and uncompressed: amazonreviews\n",
            "Downloading twitter-entity-sentiment-analysis, 2090169 bytes compressed\n",
            "[==================================================] 2090169 bytes downloaded\n",
            "Downloaded and uncompressed: twitter-entity-sentiment-analysis\n",
            "Downloading emotion-dataset, 732529 bytes compressed\n",
            "[==================================================] 732529 bytes downloaded\n",
            "Downloaded and uncompressed: emotion-dataset\n",
            "Data source import complete.\n"
          ]
        }
      ],
      "execution_count": 4
    },
    {
      "cell_type": "markdown",
      "source": [
        "![SENTIMENT-09-1.png](attachment:1ad39a19-1878-4d12-8325-6932330292d1.png)"
      ],
      "metadata": {
        "id": "ONVBJ1CHlqU1"
      }
    },
    {
      "cell_type": "markdown",
      "source": [
        "* <b> Overview :</b> Explore text-based emotion recognition, a dynamic field in <span style=\"background-color: #F8DE22; padding: 4px; border-radius:5px;\">NLP</span>, focusing on deciphering diverse emotional states in textual content.\n",
        "\n",
        "* <b> Objective :</b> Build a system for automatic categorization of text into six emotions\n",
        "( <span style=\"color: #F8DE22;\">joy</span>  ,\n",
        " <span style=\"color: #0c0d49;\">sadness</span> ,\n",
        " <span style=\"color: #b82f2f;\">fear</span> ,\n",
        " <span style=\"color: #331e1e;\">anger</span > ,\n",
        " <span style=\"color: red;\">love</span> ,\n",
        " <span style=\"color: #00fff7;\">surprise</span>)\n",
        "* <b> Model Choice : </b> Utilize <span style=\"background-color: #F8DE22; padding: 4px; border-radius:5px;\">LSTM</span>\n",
        " (Long Short-Term Memory) networks, a type of <span style=\"background-color: #F8DE22; padding: 4px; border-radius:5px;\">RNN</span>.\n",
        "\n",
        "* <b> Implementation : </b>\n",
        "Implemented with <span style=\"background-color: #F8DE22; padding: 4px; border-radius:5px;\">TensorFlow</span>.\n",
        "\n"
      ],
      "metadata": {
        "execution": {
          "iopub.status.busy": "2023-12-09T13:58:52.710537Z",
          "iopub.execute_input": "2023-12-09T13:58:52.710981Z",
          "iopub.status.idle": "2023-12-09T13:58:52.720741Z",
          "shell.execute_reply.started": "2023-12-09T13:58:52.710948Z",
          "shell.execute_reply": "2023-12-09T13:58:52.719287Z"
        },
        "id": "aSRZOP4IlqU3"
      }
    },
    {
      "cell_type": "code",
      "source": [
        "import pandas as pd\n",
        "import random\n",
        "import matplotlib.pyplot as plt\n",
        "import seaborn as sns\n",
        "from collections import Counter\n",
        "from wordcloud import WordCloud\n",
        "from nltk.stem import PorterStemmer\n",
        "import numpy as np\n",
        "from keras.utils import to_categorical\n",
        "from sklearn.metrics import confusion_matrix\n",
        "\n",
        "\n",
        "import tensorflow as tf\n",
        "from tensorflow.keras.preprocessing.text import Tokenizer\n",
        "from tensorflow.keras.preprocessing.sequence import pad_sequences\n",
        "from tensorflow.keras.layers import Embedding, LSTM, Dense, Bidirectional\n",
        "from tensorflow.keras.preprocessing.text import Tokenizer\n",
        "from tensorflow.keras.models import Sequential\n",
        "from tensorflow.keras.optimizers import Adam\n",
        "from tensorflow.keras.regularizers import l2\n"
      ],
      "metadata": {
        "_uuid": "8f2839f25d086af736a60e9eeb907d3b93b6e0e5",
        "_cell_guid": "b1076dfc-b9ad-4769-8c92-a6c4dae69d19",
        "execution": {
          "iopub.status.busy": "2023-12-09T23:34:03.237173Z",
          "iopub.execute_input": "2023-12-09T23:34:03.237745Z",
          "iopub.status.idle": "2023-12-09T23:34:03.24873Z",
          "shell.execute_reply.started": "2023-12-09T23:34:03.237623Z",
          "shell.execute_reply": "2023-12-09T23:34:03.247276Z"
        },
        "trusted": true,
        "id": "ZX84Ti6alqU3"
      },
      "execution_count": 5,
      "outputs": []
    },
    {
      "cell_type": "markdown",
      "source": [
        "# 1 | The Dataset"
      ],
      "metadata": {
        "id": "HU-5iEbLlqU4"
      }
    },
    {
      "cell_type": "markdown",
      "source": [
        "* any data sets involving sentiment analysis are <span style=\"background-color: #F8DE22; padding: 2px; border-radius:5px;\">binary classification</span> problems\n",
        "* In this dataset we have <span style=\"background-color: #F8DE22; padding: 2px; border-radius:5px;\">6 different sentiments</span> , which means we'll be treating this problem as a <span style=\"background-color: #F8DE22; padding: 2px; border-radius:5px;\">multiclass classification</span> problem"
      ],
      "metadata": {
        "id": "SBMFzOw_lqU4"
      }
    },
    {
      "cell_type": "markdown",
      "source": [
        "   ### 1. 1 | Loading Data"
      ],
      "metadata": {
        "id": "Gq9aZYB8lqU5"
      }
    },
    {
      "cell_type": "code",
      "source": [
        "val_data = pd.read_csv('/kaggle/input/emotion-dataset/validation.csv')\n",
        "train_data = pd.read_csv('/kaggle/input/emotion-dataset/training.csv')\n",
        "test_data = pd.read_csv('/kaggle/input/emotion-dataset/test.csv')"
      ],
      "metadata": {
        "execution": {
          "iopub.status.busy": "2023-12-09T23:34:03.251149Z",
          "iopub.execute_input": "2023-12-09T23:34:03.251558Z",
          "iopub.status.idle": "2023-12-09T23:34:03.345772Z",
          "shell.execute_reply.started": "2023-12-09T23:34:03.251523Z",
          "shell.execute_reply": "2023-12-09T23:34:03.344402Z"
        },
        "trusted": true,
        "id": "wkgskDYJlqU5"
      },
      "execution_count": 6,
      "outputs": []
    },
    {
      "cell_type": "code",
      "source": [
        "print(\"Validation data :\",val_data.shape)\n",
        "print(\"Train data :\",train_data.shape)\n",
        "print(\"Test data :\",test_data.shape)"
      ],
      "metadata": {
        "execution": {
          "iopub.status.busy": "2023-12-09T23:34:03.347347Z",
          "iopub.execute_input": "2023-12-09T23:34:03.347746Z",
          "iopub.status.idle": "2023-12-09T23:34:03.355223Z",
          "shell.execute_reply.started": "2023-12-09T23:34:03.347709Z",
          "shell.execute_reply": "2023-12-09T23:34:03.353914Z"
        },
        "trusted": true,
        "id": "VV3vmJJ4lqU6",
        "outputId": "f974dc32-6154-42af-afa5-52876b0f6ecc",
        "colab": {
          "base_uri": "https://localhost:8080/"
        }
      },
      "execution_count": 7,
      "outputs": [
        {
          "output_type": "stream",
          "name": "stdout",
          "text": [
            "Validation data : (2000, 2)\n",
            "Train data : (16000, 2)\n",
            "Test data : (2000, 2)\n"
          ]
        }
      ]
    },
    {
      "cell_type": "markdown",
      "source": [
        "* There is a lot of data in test, in my case i divided it and put the est in the val_data"
      ],
      "metadata": {
        "id": "4j3onV72lqU6"
      }
    },
    {
      "cell_type": "code",
      "source": [
        "half_test_data = test_data.iloc[1000:]\n",
        "test_data = test_data.iloc[:1000]\n",
        "\n",
        "val_data = pd.concat([val_data, half_test_data], axis=0)\n",
        "\n",
        "print(\"new Vald data :\",val_data.shape)\n",
        "print(\"new Test data :\",test_data.shape)"
      ],
      "metadata": {
        "execution": {
          "iopub.status.busy": "2023-12-09T23:34:03.357011Z",
          "iopub.execute_input": "2023-12-09T23:34:03.357487Z",
          "iopub.status.idle": "2023-12-09T23:34:03.37186Z",
          "shell.execute_reply.started": "2023-12-09T23:34:03.357439Z",
          "shell.execute_reply": "2023-12-09T23:34:03.370895Z"
        },
        "trusted": true,
        "id": "OVn9rXKolqU6",
        "outputId": "f0c586bc-2a8a-4a40-8616-e590c6294050",
        "colab": {
          "base_uri": "https://localhost:8080/"
        }
      },
      "execution_count": 8,
      "outputs": [
        {
          "output_type": "stream",
          "name": "stdout",
          "text": [
            "new Vald data : (3000, 2)\n",
            "new Test data : (1000, 2)\n"
          ]
        }
      ]
    },
    {
      "cell_type": "code",
      "source": [
        "train_data.head(10)"
      ],
      "metadata": {
        "execution": {
          "iopub.status.busy": "2023-12-09T23:34:03.375599Z",
          "iopub.execute_input": "2023-12-09T23:34:03.376371Z",
          "iopub.status.idle": "2023-12-09T23:34:03.394234Z",
          "shell.execute_reply.started": "2023-12-09T23:34:03.376334Z",
          "shell.execute_reply": "2023-12-09T23:34:03.392854Z"
        },
        "trusted": true,
        "id": "qvv1fbUClqU6",
        "outputId": "7b314c75-9cf5-463b-d7be-a6bfef744b53",
        "colab": {
          "base_uri": "https://localhost:8080/",
          "height": 363
        }
      },
      "execution_count": 9,
      "outputs": [
        {
          "output_type": "execute_result",
          "data": {
            "text/plain": [
              "                                                text  label\n",
              "0                            i didnt feel humiliated      0\n",
              "1  i can go from feeling so hopeless to so damned...      0\n",
              "2   im grabbing a minute to post i feel greedy wrong      3\n",
              "3  i am ever feeling nostalgic about the fireplac...      2\n",
              "4                               i am feeling grouchy      3\n",
              "5  ive been feeling a little burdened lately wasn...      0\n",
              "6  ive been taking or milligrams or times recomme...      5\n",
              "7  i feel as confused about life as a teenager or...      4\n",
              "8  i have been with petronas for years i feel tha...      1\n",
              "9                                i feel romantic too      2"
            ],
            "text/html": [
              "\n",
              "  <div id=\"df-9532ff0b-a3d1-413f-a46e-95e6d1fdcd71\" class=\"colab-df-container\">\n",
              "    <div>\n",
              "<style scoped>\n",
              "    .dataframe tbody tr th:only-of-type {\n",
              "        vertical-align: middle;\n",
              "    }\n",
              "\n",
              "    .dataframe tbody tr th {\n",
              "        vertical-align: top;\n",
              "    }\n",
              "\n",
              "    .dataframe thead th {\n",
              "        text-align: right;\n",
              "    }\n",
              "</style>\n",
              "<table border=\"1\" class=\"dataframe\">\n",
              "  <thead>\n",
              "    <tr style=\"text-align: right;\">\n",
              "      <th></th>\n",
              "      <th>text</th>\n",
              "      <th>label</th>\n",
              "    </tr>\n",
              "  </thead>\n",
              "  <tbody>\n",
              "    <tr>\n",
              "      <th>0</th>\n",
              "      <td>i didnt feel humiliated</td>\n",
              "      <td>0</td>\n",
              "    </tr>\n",
              "    <tr>\n",
              "      <th>1</th>\n",
              "      <td>i can go from feeling so hopeless to so damned...</td>\n",
              "      <td>0</td>\n",
              "    </tr>\n",
              "    <tr>\n",
              "      <th>2</th>\n",
              "      <td>im grabbing a minute to post i feel greedy wrong</td>\n",
              "      <td>3</td>\n",
              "    </tr>\n",
              "    <tr>\n",
              "      <th>3</th>\n",
              "      <td>i am ever feeling nostalgic about the fireplac...</td>\n",
              "      <td>2</td>\n",
              "    </tr>\n",
              "    <tr>\n",
              "      <th>4</th>\n",
              "      <td>i am feeling grouchy</td>\n",
              "      <td>3</td>\n",
              "    </tr>\n",
              "    <tr>\n",
              "      <th>5</th>\n",
              "      <td>ive been feeling a little burdened lately wasn...</td>\n",
              "      <td>0</td>\n",
              "    </tr>\n",
              "    <tr>\n",
              "      <th>6</th>\n",
              "      <td>ive been taking or milligrams or times recomme...</td>\n",
              "      <td>5</td>\n",
              "    </tr>\n",
              "    <tr>\n",
              "      <th>7</th>\n",
              "      <td>i feel as confused about life as a teenager or...</td>\n",
              "      <td>4</td>\n",
              "    </tr>\n",
              "    <tr>\n",
              "      <th>8</th>\n",
              "      <td>i have been with petronas for years i feel tha...</td>\n",
              "      <td>1</td>\n",
              "    </tr>\n",
              "    <tr>\n",
              "      <th>9</th>\n",
              "      <td>i feel romantic too</td>\n",
              "      <td>2</td>\n",
              "    </tr>\n",
              "  </tbody>\n",
              "</table>\n",
              "</div>\n",
              "    <div class=\"colab-df-buttons\">\n",
              "\n",
              "  <div class=\"colab-df-container\">\n",
              "    <button class=\"colab-df-convert\" onclick=\"convertToInteractive('df-9532ff0b-a3d1-413f-a46e-95e6d1fdcd71')\"\n",
              "            title=\"Convert this dataframe to an interactive table.\"\n",
              "            style=\"display:none;\">\n",
              "\n",
              "  <svg xmlns=\"http://www.w3.org/2000/svg\" height=\"24px\" viewBox=\"0 -960 960 960\">\n",
              "    <path d=\"M120-120v-720h720v720H120Zm60-500h600v-160H180v160Zm220 220h160v-160H400v160Zm0 220h160v-160H400v160ZM180-400h160v-160H180v160Zm440 0h160v-160H620v160ZM180-180h160v-160H180v160Zm440 0h160v-160H620v160Z\"/>\n",
              "  </svg>\n",
              "    </button>\n",
              "\n",
              "  <style>\n",
              "    .colab-df-container {\n",
              "      display:flex;\n",
              "      gap: 12px;\n",
              "    }\n",
              "\n",
              "    .colab-df-convert {\n",
              "      background-color: #E8F0FE;\n",
              "      border: none;\n",
              "      border-radius: 50%;\n",
              "      cursor: pointer;\n",
              "      display: none;\n",
              "      fill: #1967D2;\n",
              "      height: 32px;\n",
              "      padding: 0 0 0 0;\n",
              "      width: 32px;\n",
              "    }\n",
              "\n",
              "    .colab-df-convert:hover {\n",
              "      background-color: #E2EBFA;\n",
              "      box-shadow: 0px 1px 2px rgba(60, 64, 67, 0.3), 0px 1px 3px 1px rgba(60, 64, 67, 0.15);\n",
              "      fill: #174EA6;\n",
              "    }\n",
              "\n",
              "    .colab-df-buttons div {\n",
              "      margin-bottom: 4px;\n",
              "    }\n",
              "\n",
              "    [theme=dark] .colab-df-convert {\n",
              "      background-color: #3B4455;\n",
              "      fill: #D2E3FC;\n",
              "    }\n",
              "\n",
              "    [theme=dark] .colab-df-convert:hover {\n",
              "      background-color: #434B5C;\n",
              "      box-shadow: 0px 1px 3px 1px rgba(0, 0, 0, 0.15);\n",
              "      filter: drop-shadow(0px 1px 2px rgba(0, 0, 0, 0.3));\n",
              "      fill: #FFFFFF;\n",
              "    }\n",
              "  </style>\n",
              "\n",
              "    <script>\n",
              "      const buttonEl =\n",
              "        document.querySelector('#df-9532ff0b-a3d1-413f-a46e-95e6d1fdcd71 button.colab-df-convert');\n",
              "      buttonEl.style.display =\n",
              "        google.colab.kernel.accessAllowed ? 'block' : 'none';\n",
              "\n",
              "      async function convertToInteractive(key) {\n",
              "        const element = document.querySelector('#df-9532ff0b-a3d1-413f-a46e-95e6d1fdcd71');\n",
              "        const dataTable =\n",
              "          await google.colab.kernel.invokeFunction('convertToInteractive',\n",
              "                                                    [key], {});\n",
              "        if (!dataTable) return;\n",
              "\n",
              "        const docLinkHtml = 'Like what you see? Visit the ' +\n",
              "          '<a target=\"_blank\" href=https://colab.research.google.com/notebooks/data_table.ipynb>data table notebook</a>'\n",
              "          + ' to learn more about interactive tables.';\n",
              "        element.innerHTML = '';\n",
              "        dataTable['output_type'] = 'display_data';\n",
              "        await google.colab.output.renderOutput(dataTable, element);\n",
              "        const docLink = document.createElement('div');\n",
              "        docLink.innerHTML = docLinkHtml;\n",
              "        element.appendChild(docLink);\n",
              "      }\n",
              "    </script>\n",
              "  </div>\n",
              "\n",
              "\n",
              "<div id=\"df-1455720a-9fd2-49c0-9c8d-26b1f0eb42b3\">\n",
              "  <button class=\"colab-df-quickchart\" onclick=\"quickchart('df-1455720a-9fd2-49c0-9c8d-26b1f0eb42b3')\"\n",
              "            title=\"Suggest charts\"\n",
              "            style=\"display:none;\">\n",
              "\n",
              "<svg xmlns=\"http://www.w3.org/2000/svg\" height=\"24px\"viewBox=\"0 0 24 24\"\n",
              "     width=\"24px\">\n",
              "    <g>\n",
              "        <path d=\"M19 3H5c-1.1 0-2 .9-2 2v14c0 1.1.9 2 2 2h14c1.1 0 2-.9 2-2V5c0-1.1-.9-2-2-2zM9 17H7v-7h2v7zm4 0h-2V7h2v10zm4 0h-2v-4h2v4z\"/>\n",
              "    </g>\n",
              "</svg>\n",
              "  </button>\n",
              "\n",
              "<style>\n",
              "  .colab-df-quickchart {\n",
              "      --bg-color: #E8F0FE;\n",
              "      --fill-color: #1967D2;\n",
              "      --hover-bg-color: #E2EBFA;\n",
              "      --hover-fill-color: #174EA6;\n",
              "      --disabled-fill-color: #AAA;\n",
              "      --disabled-bg-color: #DDD;\n",
              "  }\n",
              "\n",
              "  [theme=dark] .colab-df-quickchart {\n",
              "      --bg-color: #3B4455;\n",
              "      --fill-color: #D2E3FC;\n",
              "      --hover-bg-color: #434B5C;\n",
              "      --hover-fill-color: #FFFFFF;\n",
              "      --disabled-bg-color: #3B4455;\n",
              "      --disabled-fill-color: #666;\n",
              "  }\n",
              "\n",
              "  .colab-df-quickchart {\n",
              "    background-color: var(--bg-color);\n",
              "    border: none;\n",
              "    border-radius: 50%;\n",
              "    cursor: pointer;\n",
              "    display: none;\n",
              "    fill: var(--fill-color);\n",
              "    height: 32px;\n",
              "    padding: 0;\n",
              "    width: 32px;\n",
              "  }\n",
              "\n",
              "  .colab-df-quickchart:hover {\n",
              "    background-color: var(--hover-bg-color);\n",
              "    box-shadow: 0 1px 2px rgba(60, 64, 67, 0.3), 0 1px 3px 1px rgba(60, 64, 67, 0.15);\n",
              "    fill: var(--button-hover-fill-color);\n",
              "  }\n",
              "\n",
              "  .colab-df-quickchart-complete:disabled,\n",
              "  .colab-df-quickchart-complete:disabled:hover {\n",
              "    background-color: var(--disabled-bg-color);\n",
              "    fill: var(--disabled-fill-color);\n",
              "    box-shadow: none;\n",
              "  }\n",
              "\n",
              "  .colab-df-spinner {\n",
              "    border: 2px solid var(--fill-color);\n",
              "    border-color: transparent;\n",
              "    border-bottom-color: var(--fill-color);\n",
              "    animation:\n",
              "      spin 1s steps(1) infinite;\n",
              "  }\n",
              "\n",
              "  @keyframes spin {\n",
              "    0% {\n",
              "      border-color: transparent;\n",
              "      border-bottom-color: var(--fill-color);\n",
              "      border-left-color: var(--fill-color);\n",
              "    }\n",
              "    20% {\n",
              "      border-color: transparent;\n",
              "      border-left-color: var(--fill-color);\n",
              "      border-top-color: var(--fill-color);\n",
              "    }\n",
              "    30% {\n",
              "      border-color: transparent;\n",
              "      border-left-color: var(--fill-color);\n",
              "      border-top-color: var(--fill-color);\n",
              "      border-right-color: var(--fill-color);\n",
              "    }\n",
              "    40% {\n",
              "      border-color: transparent;\n",
              "      border-right-color: var(--fill-color);\n",
              "      border-top-color: var(--fill-color);\n",
              "    }\n",
              "    60% {\n",
              "      border-color: transparent;\n",
              "      border-right-color: var(--fill-color);\n",
              "    }\n",
              "    80% {\n",
              "      border-color: transparent;\n",
              "      border-right-color: var(--fill-color);\n",
              "      border-bottom-color: var(--fill-color);\n",
              "    }\n",
              "    90% {\n",
              "      border-color: transparent;\n",
              "      border-bottom-color: var(--fill-color);\n",
              "    }\n",
              "  }\n",
              "</style>\n",
              "\n",
              "  <script>\n",
              "    async function quickchart(key) {\n",
              "      const quickchartButtonEl =\n",
              "        document.querySelector('#' + key + ' button');\n",
              "      quickchartButtonEl.disabled = true;  // To prevent multiple clicks.\n",
              "      quickchartButtonEl.classList.add('colab-df-spinner');\n",
              "      try {\n",
              "        const charts = await google.colab.kernel.invokeFunction(\n",
              "            'suggestCharts', [key], {});\n",
              "      } catch (error) {\n",
              "        console.error('Error during call to suggestCharts:', error);\n",
              "      }\n",
              "      quickchartButtonEl.classList.remove('colab-df-spinner');\n",
              "      quickchartButtonEl.classList.add('colab-df-quickchart-complete');\n",
              "    }\n",
              "    (() => {\n",
              "      let quickchartButtonEl =\n",
              "        document.querySelector('#df-1455720a-9fd2-49c0-9c8d-26b1f0eb42b3 button');\n",
              "      quickchartButtonEl.style.display =\n",
              "        google.colab.kernel.accessAllowed ? 'block' : 'none';\n",
              "    })();\n",
              "  </script>\n",
              "</div>\n",
              "\n",
              "    </div>\n",
              "  </div>\n"
            ],
            "application/vnd.google.colaboratory.intrinsic+json": {
              "type": "dataframe",
              "variable_name": "train_data",
              "summary": "{\n  \"name\": \"train_data\",\n  \"rows\": 16000,\n  \"fields\": [\n    {\n      \"column\": \"text\",\n      \"properties\": {\n        \"dtype\": \"string\",\n        \"num_unique_values\": 15969,\n        \"samples\": [\n          \"i feel rather imbicilic or at least complacent\",\n          \"i was in the bathroom i had sat down to pee it was to make me feel submissive again per instructions\",\n          \"i am thrilled with the way my skin and hair feel if you are like me you are skeptical\"\n        ],\n        \"semantic_type\": \"\",\n        \"description\": \"\"\n      }\n    },\n    {\n      \"column\": \"label\",\n      \"properties\": {\n        \"dtype\": \"number\",\n        \"std\": 1,\n        \"min\": 0,\n        \"max\": 5,\n        \"num_unique_values\": 6,\n        \"samples\": [\n          0,\n          3,\n          1\n        ],\n        \"semantic_type\": \"\",\n        \"description\": \"\"\n      }\n    }\n  ]\n}"
            }
          },
          "metadata": {},
          "execution_count": 9
        }
      ]
    },
    {
      "cell_type": "markdown",
      "source": [
        "### 1. 2 | Adding Label Data"
      ],
      "metadata": {
        "id": "HVj7d9NKlqU7"
      }
    },
    {
      "cell_type": "code",
      "source": [
        "labels_dict = {0:'sadness', 1:'joy', 2:'love', 3:'anger', 4:'fear', 5:'surprise'}\n",
        "train_data['label_name'] = train_data['label'].map(labels_dict)\n",
        "train_data.head()"
      ],
      "metadata": {
        "execution": {
          "iopub.status.busy": "2023-12-09T23:34:03.396239Z",
          "iopub.execute_input": "2023-12-09T23:34:03.396639Z",
          "iopub.status.idle": "2023-12-09T23:34:03.422261Z",
          "shell.execute_reply.started": "2023-12-09T23:34:03.396601Z",
          "shell.execute_reply": "2023-12-09T23:34:03.421147Z"
        },
        "trusted": true,
        "id": "CsSAko5OlqU7",
        "outputId": "91021fc7-0e66-4492-87fd-878d89e25202",
        "colab": {
          "base_uri": "https://localhost:8080/",
          "height": 206
        }
      },
      "execution_count": 10,
      "outputs": [
        {
          "output_type": "execute_result",
          "data": {
            "text/plain": [
              "                                                text  label label_name\n",
              "0                            i didnt feel humiliated      0    sadness\n",
              "1  i can go from feeling so hopeless to so damned...      0    sadness\n",
              "2   im grabbing a minute to post i feel greedy wrong      3      anger\n",
              "3  i am ever feeling nostalgic about the fireplac...      2       love\n",
              "4                               i am feeling grouchy      3      anger"
            ],
            "text/html": [
              "\n",
              "  <div id=\"df-e9003f52-5e82-403b-82eb-484ad8d0a286\" class=\"colab-df-container\">\n",
              "    <div>\n",
              "<style scoped>\n",
              "    .dataframe tbody tr th:only-of-type {\n",
              "        vertical-align: middle;\n",
              "    }\n",
              "\n",
              "    .dataframe tbody tr th {\n",
              "        vertical-align: top;\n",
              "    }\n",
              "\n",
              "    .dataframe thead th {\n",
              "        text-align: right;\n",
              "    }\n",
              "</style>\n",
              "<table border=\"1\" class=\"dataframe\">\n",
              "  <thead>\n",
              "    <tr style=\"text-align: right;\">\n",
              "      <th></th>\n",
              "      <th>text</th>\n",
              "      <th>label</th>\n",
              "      <th>label_name</th>\n",
              "    </tr>\n",
              "  </thead>\n",
              "  <tbody>\n",
              "    <tr>\n",
              "      <th>0</th>\n",
              "      <td>i didnt feel humiliated</td>\n",
              "      <td>0</td>\n",
              "      <td>sadness</td>\n",
              "    </tr>\n",
              "    <tr>\n",
              "      <th>1</th>\n",
              "      <td>i can go from feeling so hopeless to so damned...</td>\n",
              "      <td>0</td>\n",
              "      <td>sadness</td>\n",
              "    </tr>\n",
              "    <tr>\n",
              "      <th>2</th>\n",
              "      <td>im grabbing a minute to post i feel greedy wrong</td>\n",
              "      <td>3</td>\n",
              "      <td>anger</td>\n",
              "    </tr>\n",
              "    <tr>\n",
              "      <th>3</th>\n",
              "      <td>i am ever feeling nostalgic about the fireplac...</td>\n",
              "      <td>2</td>\n",
              "      <td>love</td>\n",
              "    </tr>\n",
              "    <tr>\n",
              "      <th>4</th>\n",
              "      <td>i am feeling grouchy</td>\n",
              "      <td>3</td>\n",
              "      <td>anger</td>\n",
              "    </tr>\n",
              "  </tbody>\n",
              "</table>\n",
              "</div>\n",
              "    <div class=\"colab-df-buttons\">\n",
              "\n",
              "  <div class=\"colab-df-container\">\n",
              "    <button class=\"colab-df-convert\" onclick=\"convertToInteractive('df-e9003f52-5e82-403b-82eb-484ad8d0a286')\"\n",
              "            title=\"Convert this dataframe to an interactive table.\"\n",
              "            style=\"display:none;\">\n",
              "\n",
              "  <svg xmlns=\"http://www.w3.org/2000/svg\" height=\"24px\" viewBox=\"0 -960 960 960\">\n",
              "    <path d=\"M120-120v-720h720v720H120Zm60-500h600v-160H180v160Zm220 220h160v-160H400v160Zm0 220h160v-160H400v160ZM180-400h160v-160H180v160Zm440 0h160v-160H620v160ZM180-180h160v-160H180v160Zm440 0h160v-160H620v160Z\"/>\n",
              "  </svg>\n",
              "    </button>\n",
              "\n",
              "  <style>\n",
              "    .colab-df-container {\n",
              "      display:flex;\n",
              "      gap: 12px;\n",
              "    }\n",
              "\n",
              "    .colab-df-convert {\n",
              "      background-color: #E8F0FE;\n",
              "      border: none;\n",
              "      border-radius: 50%;\n",
              "      cursor: pointer;\n",
              "      display: none;\n",
              "      fill: #1967D2;\n",
              "      height: 32px;\n",
              "      padding: 0 0 0 0;\n",
              "      width: 32px;\n",
              "    }\n",
              "\n",
              "    .colab-df-convert:hover {\n",
              "      background-color: #E2EBFA;\n",
              "      box-shadow: 0px 1px 2px rgba(60, 64, 67, 0.3), 0px 1px 3px 1px rgba(60, 64, 67, 0.15);\n",
              "      fill: #174EA6;\n",
              "    }\n",
              "\n",
              "    .colab-df-buttons div {\n",
              "      margin-bottom: 4px;\n",
              "    }\n",
              "\n",
              "    [theme=dark] .colab-df-convert {\n",
              "      background-color: #3B4455;\n",
              "      fill: #D2E3FC;\n",
              "    }\n",
              "\n",
              "    [theme=dark] .colab-df-convert:hover {\n",
              "      background-color: #434B5C;\n",
              "      box-shadow: 0px 1px 3px 1px rgba(0, 0, 0, 0.15);\n",
              "      filter: drop-shadow(0px 1px 2px rgba(0, 0, 0, 0.3));\n",
              "      fill: #FFFFFF;\n",
              "    }\n",
              "  </style>\n",
              "\n",
              "    <script>\n",
              "      const buttonEl =\n",
              "        document.querySelector('#df-e9003f52-5e82-403b-82eb-484ad8d0a286 button.colab-df-convert');\n",
              "      buttonEl.style.display =\n",
              "        google.colab.kernel.accessAllowed ? 'block' : 'none';\n",
              "\n",
              "      async function convertToInteractive(key) {\n",
              "        const element = document.querySelector('#df-e9003f52-5e82-403b-82eb-484ad8d0a286');\n",
              "        const dataTable =\n",
              "          await google.colab.kernel.invokeFunction('convertToInteractive',\n",
              "                                                    [key], {});\n",
              "        if (!dataTable) return;\n",
              "\n",
              "        const docLinkHtml = 'Like what you see? Visit the ' +\n",
              "          '<a target=\"_blank\" href=https://colab.research.google.com/notebooks/data_table.ipynb>data table notebook</a>'\n",
              "          + ' to learn more about interactive tables.';\n",
              "        element.innerHTML = '';\n",
              "        dataTable['output_type'] = 'display_data';\n",
              "        await google.colab.output.renderOutput(dataTable, element);\n",
              "        const docLink = document.createElement('div');\n",
              "        docLink.innerHTML = docLinkHtml;\n",
              "        element.appendChild(docLink);\n",
              "      }\n",
              "    </script>\n",
              "  </div>\n",
              "\n",
              "\n",
              "<div id=\"df-cf32856b-5ba4-42d5-aec2-f905e3b8a811\">\n",
              "  <button class=\"colab-df-quickchart\" onclick=\"quickchart('df-cf32856b-5ba4-42d5-aec2-f905e3b8a811')\"\n",
              "            title=\"Suggest charts\"\n",
              "            style=\"display:none;\">\n",
              "\n",
              "<svg xmlns=\"http://www.w3.org/2000/svg\" height=\"24px\"viewBox=\"0 0 24 24\"\n",
              "     width=\"24px\">\n",
              "    <g>\n",
              "        <path d=\"M19 3H5c-1.1 0-2 .9-2 2v14c0 1.1.9 2 2 2h14c1.1 0 2-.9 2-2V5c0-1.1-.9-2-2-2zM9 17H7v-7h2v7zm4 0h-2V7h2v10zm4 0h-2v-4h2v4z\"/>\n",
              "    </g>\n",
              "</svg>\n",
              "  </button>\n",
              "\n",
              "<style>\n",
              "  .colab-df-quickchart {\n",
              "      --bg-color: #E8F0FE;\n",
              "      --fill-color: #1967D2;\n",
              "      --hover-bg-color: #E2EBFA;\n",
              "      --hover-fill-color: #174EA6;\n",
              "      --disabled-fill-color: #AAA;\n",
              "      --disabled-bg-color: #DDD;\n",
              "  }\n",
              "\n",
              "  [theme=dark] .colab-df-quickchart {\n",
              "      --bg-color: #3B4455;\n",
              "      --fill-color: #D2E3FC;\n",
              "      --hover-bg-color: #434B5C;\n",
              "      --hover-fill-color: #FFFFFF;\n",
              "      --disabled-bg-color: #3B4455;\n",
              "      --disabled-fill-color: #666;\n",
              "  }\n",
              "\n",
              "  .colab-df-quickchart {\n",
              "    background-color: var(--bg-color);\n",
              "    border: none;\n",
              "    border-radius: 50%;\n",
              "    cursor: pointer;\n",
              "    display: none;\n",
              "    fill: var(--fill-color);\n",
              "    height: 32px;\n",
              "    padding: 0;\n",
              "    width: 32px;\n",
              "  }\n",
              "\n",
              "  .colab-df-quickchart:hover {\n",
              "    background-color: var(--hover-bg-color);\n",
              "    box-shadow: 0 1px 2px rgba(60, 64, 67, 0.3), 0 1px 3px 1px rgba(60, 64, 67, 0.15);\n",
              "    fill: var(--button-hover-fill-color);\n",
              "  }\n",
              "\n",
              "  .colab-df-quickchart-complete:disabled,\n",
              "  .colab-df-quickchart-complete:disabled:hover {\n",
              "    background-color: var(--disabled-bg-color);\n",
              "    fill: var(--disabled-fill-color);\n",
              "    box-shadow: none;\n",
              "  }\n",
              "\n",
              "  .colab-df-spinner {\n",
              "    border: 2px solid var(--fill-color);\n",
              "    border-color: transparent;\n",
              "    border-bottom-color: var(--fill-color);\n",
              "    animation:\n",
              "      spin 1s steps(1) infinite;\n",
              "  }\n",
              "\n",
              "  @keyframes spin {\n",
              "    0% {\n",
              "      border-color: transparent;\n",
              "      border-bottom-color: var(--fill-color);\n",
              "      border-left-color: var(--fill-color);\n",
              "    }\n",
              "    20% {\n",
              "      border-color: transparent;\n",
              "      border-left-color: var(--fill-color);\n",
              "      border-top-color: var(--fill-color);\n",
              "    }\n",
              "    30% {\n",
              "      border-color: transparent;\n",
              "      border-left-color: var(--fill-color);\n",
              "      border-top-color: var(--fill-color);\n",
              "      border-right-color: var(--fill-color);\n",
              "    }\n",
              "    40% {\n",
              "      border-color: transparent;\n",
              "      border-right-color: var(--fill-color);\n",
              "      border-top-color: var(--fill-color);\n",
              "    }\n",
              "    60% {\n",
              "      border-color: transparent;\n",
              "      border-right-color: var(--fill-color);\n",
              "    }\n",
              "    80% {\n",
              "      border-color: transparent;\n",
              "      border-right-color: var(--fill-color);\n",
              "      border-bottom-color: var(--fill-color);\n",
              "    }\n",
              "    90% {\n",
              "      border-color: transparent;\n",
              "      border-bottom-color: var(--fill-color);\n",
              "    }\n",
              "  }\n",
              "</style>\n",
              "\n",
              "  <script>\n",
              "    async function quickchart(key) {\n",
              "      const quickchartButtonEl =\n",
              "        document.querySelector('#' + key + ' button');\n",
              "      quickchartButtonEl.disabled = true;  // To prevent multiple clicks.\n",
              "      quickchartButtonEl.classList.add('colab-df-spinner');\n",
              "      try {\n",
              "        const charts = await google.colab.kernel.invokeFunction(\n",
              "            'suggestCharts', [key], {});\n",
              "      } catch (error) {\n",
              "        console.error('Error during call to suggestCharts:', error);\n",
              "      }\n",
              "      quickchartButtonEl.classList.remove('colab-df-spinner');\n",
              "      quickchartButtonEl.classList.add('colab-df-quickchart-complete');\n",
              "    }\n",
              "    (() => {\n",
              "      let quickchartButtonEl =\n",
              "        document.querySelector('#df-cf32856b-5ba4-42d5-aec2-f905e3b8a811 button');\n",
              "      quickchartButtonEl.style.display =\n",
              "        google.colab.kernel.accessAllowed ? 'block' : 'none';\n",
              "    })();\n",
              "  </script>\n",
              "</div>\n",
              "\n",
              "    </div>\n",
              "  </div>\n"
            ],
            "application/vnd.google.colaboratory.intrinsic+json": {
              "type": "dataframe",
              "variable_name": "train_data",
              "summary": "{\n  \"name\": \"train_data\",\n  \"rows\": 16000,\n  \"fields\": [\n    {\n      \"column\": \"text\",\n      \"properties\": {\n        \"dtype\": \"string\",\n        \"num_unique_values\": 15969,\n        \"samples\": [\n          \"i feel rather imbicilic or at least complacent\",\n          \"i was in the bathroom i had sat down to pee it was to make me feel submissive again per instructions\",\n          \"i am thrilled with the way my skin and hair feel if you are like me you are skeptical\"\n        ],\n        \"semantic_type\": \"\",\n        \"description\": \"\"\n      }\n    },\n    {\n      \"column\": \"label\",\n      \"properties\": {\n        \"dtype\": \"number\",\n        \"std\": 1,\n        \"min\": 0,\n        \"max\": 5,\n        \"num_unique_values\": 6,\n        \"samples\": [\n          0,\n          3,\n          1\n        ],\n        \"semantic_type\": \"\",\n        \"description\": \"\"\n      }\n    },\n    {\n      \"column\": \"label_name\",\n      \"properties\": {\n        \"dtype\": \"category\",\n        \"num_unique_values\": 6,\n        \"samples\": [\n          \"sadness\",\n          \"anger\",\n          \"joy\"\n        ],\n        \"semantic_type\": \"\",\n        \"description\": \"\"\n      }\n    }\n  ]\n}"
            }
          },
          "metadata": {},
          "execution_count": 10
        }
      ]
    },
    {
      "cell_type": "code",
      "source": [
        "train_data.groupby([\"label_name\",\"label\"]).size()"
      ],
      "metadata": {
        "execution": {
          "iopub.status.busy": "2023-12-09T23:34:03.424263Z",
          "iopub.execute_input": "2023-12-09T23:34:03.425174Z",
          "iopub.status.idle": "2023-12-09T23:34:03.454741Z",
          "shell.execute_reply.started": "2023-12-09T23:34:03.425129Z",
          "shell.execute_reply": "2023-12-09T23:34:03.453398Z"
        },
        "trusted": true,
        "id": "7gP2i_DklqU7",
        "outputId": "90b2d607-bdee-4726-c38c-5694c2ae7961",
        "colab": {
          "base_uri": "https://localhost:8080/",
          "height": 303
        }
      },
      "execution_count": 11,
      "outputs": [
        {
          "output_type": "execute_result",
          "data": {
            "text/plain": [
              "label_name  label\n",
              "anger       3        2159\n",
              "fear        4        1937\n",
              "joy         1        5362\n",
              "love        2        1304\n",
              "sadness     0        4666\n",
              "surprise    5         572\n",
              "dtype: int64"
            ],
            "text/html": [
              "<div>\n",
              "<style scoped>\n",
              "    .dataframe tbody tr th:only-of-type {\n",
              "        vertical-align: middle;\n",
              "    }\n",
              "\n",
              "    .dataframe tbody tr th {\n",
              "        vertical-align: top;\n",
              "    }\n",
              "\n",
              "    .dataframe thead th {\n",
              "        text-align: right;\n",
              "    }\n",
              "</style>\n",
              "<table border=\"1\" class=\"dataframe\">\n",
              "  <thead>\n",
              "    <tr style=\"text-align: right;\">\n",
              "      <th></th>\n",
              "      <th></th>\n",
              "      <th>0</th>\n",
              "    </tr>\n",
              "    <tr>\n",
              "      <th>label_name</th>\n",
              "      <th>label</th>\n",
              "      <th></th>\n",
              "    </tr>\n",
              "  </thead>\n",
              "  <tbody>\n",
              "    <tr>\n",
              "      <th>anger</th>\n",
              "      <th>3</th>\n",
              "      <td>2159</td>\n",
              "    </tr>\n",
              "    <tr>\n",
              "      <th>fear</th>\n",
              "      <th>4</th>\n",
              "      <td>1937</td>\n",
              "    </tr>\n",
              "    <tr>\n",
              "      <th>joy</th>\n",
              "      <th>1</th>\n",
              "      <td>5362</td>\n",
              "    </tr>\n",
              "    <tr>\n",
              "      <th>love</th>\n",
              "      <th>2</th>\n",
              "      <td>1304</td>\n",
              "    </tr>\n",
              "    <tr>\n",
              "      <th>sadness</th>\n",
              "      <th>0</th>\n",
              "      <td>4666</td>\n",
              "    </tr>\n",
              "    <tr>\n",
              "      <th>surprise</th>\n",
              "      <th>5</th>\n",
              "      <td>572</td>\n",
              "    </tr>\n",
              "  </tbody>\n",
              "</table>\n",
              "</div><br><label><b>dtype:</b> int64</label>"
            ]
          },
          "metadata": {},
          "execution_count": 11
        }
      ]
    },
    {
      "cell_type": "markdown",
      "source": [
        "### 1. 3 | Data Visualization"
      ],
      "metadata": {
        "id": "QMznqU-7lqU7"
      }
    },
    {
      "cell_type": "code",
      "source": [
        "train_data[\"label_name\"].value_counts().plot(kind='bar',color=['yellow', '#0c0d49', '#b82f2f', '#331e1e', 'red','#00fff7'])"
      ],
      "metadata": {
        "execution": {
          "iopub.status.busy": "2023-12-09T23:34:03.456687Z",
          "iopub.execute_input": "2023-12-09T23:34:03.457209Z",
          "iopub.status.idle": "2023-12-09T23:34:04.656602Z",
          "shell.execute_reply.started": "2023-12-09T23:34:03.457161Z",
          "shell.execute_reply": "2023-12-09T23:34:04.655499Z"
        },
        "trusted": true,
        "id": "c7K7Ur1ElqU7",
        "outputId": "7551f0f0-429f-4d4e-97ca-207cfa0f30bf",
        "colab": {
          "base_uri": "https://localhost:8080/",
          "height": 509
        }
      },
      "execution_count": 12,
      "outputs": [
        {
          "output_type": "execute_result",
          "data": {
            "text/plain": [
              "<Axes: xlabel='label_name'>"
            ]
          },
          "metadata": {},
          "execution_count": 12
        },
        {
          "output_type": "display_data",
          "data": {
            "text/plain": [
              "<Figure size 640x480 with 1 Axes>"
            ],
            "image/png": "[encoded data removed]"
          },
          "metadata": {}
        }
      ]
    },
    {
      "cell_type": "markdown",
      "source": [
        "# 2 | Data Cleaning"
      ],
      "metadata": {
        "id": "aAOpvwywlqU8"
      }
    },
    {
      "cell_type": "code",
      "source": [
        "print(train_data.isnull().sum())\n",
        "print(val_data.isnull().sum())\n",
        "print(test_data.isnull().sum())"
      ],
      "metadata": {
        "execution": {
          "iopub.status.busy": "2023-12-09T23:34:04.657896Z",
          "iopub.execute_input": "2023-12-09T23:34:04.658225Z",
          "iopub.status.idle": "2023-12-09T23:34:04.673623Z",
          "shell.execute_reply.started": "2023-12-09T23:34:04.658196Z",
          "shell.execute_reply": "2023-12-09T23:34:04.672362Z"
        },
        "trusted": true,
        "id": "W3TcpBUylqU8",
        "outputId": "24653e92-8e83-4de6-878f-c2ae7148f7c9",
        "colab": {
          "base_uri": "https://localhost:8080/"
        }
      },
      "execution_count": 13,
      "outputs": [
        {
          "output_type": "stream",
          "name": "stdout",
          "text": [
            "text          0\n",
            "label         0\n",
            "label_name    0\n",
            "dtype: int64\n",
            "text     0\n",
            "label    0\n",
            "dtype: int64\n",
            "text     0\n",
            "label    0\n",
            "dtype: int64\n"
          ]
        }
      ]
    },
    {
      "cell_type": "markdown",
      "source": [
        "# 3 | Tokenisation & Stemming"
      ],
      "metadata": {
        "id": "mHrCOp-QlqU8"
      }
    },
    {
      "cell_type": "markdown",
      "source": [
        "* <span style=\"background-color: #F8DE22; padding: 2px; border-radius:5px;\">Tokenization</span> assigns unique IDs to words, creating a word index or vocabulary.\n",
        "* <b>Example Sentence :</b> \"Tokenization is essential for NLP tasks.\"\n",
        "* <b>Tokenized Output : </b>['Tokenization', 'is', 'essential', 'for', 'NLP', 'tasks', '.']\n",
        "\n",
        "\n",
        "* <span style=\"background-color: #F8DE22; padding: 2px; border-radius:5px;\">Stemming</span> is a technique used to reduce an inflected word down to its word stem.\n",
        "* <b>Example :</b>\n",
        "* <b>Original Words :</b> running , programming , swimming , happiness , programmer <span style=\"background-color: #F8DE22; padding: 2px; border-radius:5px;\">  (5 words)</span>\n",
        "* <b>Stemmed Words :</b> run , program , swim , happi   <span style=\"background-color: #F8DE22; padding: 2px; border-radius:5px;\">  (4 words)</span>"
      ],
      "metadata": {
        "id": "gU_NawMelqU8"
      }
    },
    {
      "cell_type": "code",
      "source": [
        "all_list = train_data['text'].tolist() + test_data['text'].tolist() + val_data['text'].tolist()"
      ],
      "metadata": {
        "execution": {
          "iopub.status.busy": "2023-12-09T23:34:04.675633Z",
          "iopub.execute_input": "2023-12-09T23:34:04.676124Z",
          "iopub.status.idle": "2023-12-09T23:34:04.688872Z",
          "shell.execute_reply.started": "2023-12-09T23:34:04.676079Z",
          "shell.execute_reply": "2023-12-09T23:34:04.687576Z"
        },
        "trusted": true,
        "id": "zwI-KxQLlqU8"
      },
      "execution_count": 14,
      "outputs": []
    },
    {
      "cell_type": "code",
      "source": [
        "tokenizer1 = Tokenizer()\n",
        "tokenizer1.fit_on_texts(all_list)\n",
        "word_index1 = tokenizer1.word_index\n",
        "\n",
        "print(\"Nombre of words without Stemming:\",len(word_index1))\n",
        "\n",
        "stemmer = PorterStemmer()\n",
        "stemmed_words = [stemmer.stem(word) for word in word_index1.keys()]\n",
        "\n",
        "tokenizer2 = Tokenizer()\n",
        "tokenizer2.fit_on_texts(stemmed_words)\n",
        "word_index2 = tokenizer2.word_index\n",
        "\n",
        "print(\"Nombre of words with Stemming:\",len(word_index2))"
      ],
      "metadata": {
        "execution": {
          "iopub.status.busy": "2023-12-09T23:34:04.690559Z",
          "iopub.execute_input": "2023-12-09T23:34:04.690981Z",
          "iopub.status.idle": "2023-12-09T23:34:06.216641Z",
          "shell.execute_reply.started": "2023-12-09T23:34:04.690934Z",
          "shell.execute_reply": "2023-12-09T23:34:06.215344Z"
        },
        "trusted": true,
        "id": "N6MuJr-glqU8",
        "outputId": "2c7d06f5-a397-468b-f84a-9e14b39bbe32",
        "colab": {
          "base_uri": "https://localhost:8080/"
        }
      },
      "execution_count": 15,
      "outputs": [
        {
          "output_type": "stream",
          "name": "stdout",
          "text": [
            "Nombre of words without Stemming: 17096\n",
            "Nombre of words with Stemming: 11705\n"
          ]
        }
      ]
    },
    {
      "cell_type": "markdown",
      "source": [
        "* load all data to list : <b>[ [ Tokenised_Data ] , label ] </b>"
      ],
      "metadata": {
        "id": "q1GFyTujlqU9"
      }
    },
    {
      "cell_type": "code",
      "source": [
        "def preprocess_data(data):\n",
        "    new_data = []\n",
        "    for index, row in data.iterrows():\n",
        "        test_split = row['text'].split()\n",
        "        stemmed_words2 = [stemmer.stem(word) for word in test_split]\n",
        "        token_list= tokenizer2.texts_to_sequences([stemmed_words2])[0]\n",
        "        new_data.append([token_list,row['label']])\n",
        "    return new_data"
      ],
      "metadata": {
        "execution": {
          "iopub.status.busy": "2023-12-09T23:34:06.218201Z",
          "iopub.execute_input": "2023-12-09T23:34:06.218635Z",
          "iopub.status.idle": "2023-12-09T23:34:06.226738Z",
          "shell.execute_reply.started": "2023-12-09T23:34:06.218592Z",
          "shell.execute_reply": "2023-12-09T23:34:06.225408Z"
        },
        "trusted": true,
        "id": "dsVbK7MMlqU9"
      },
      "execution_count": 17,
      "outputs": []
    },
    {
      "cell_type": "code",
      "source": [
        "new_train_data = preprocess_data(train_data)\n",
        "print(train_data['text'][0])\n",
        "print(new_train_data[0])"
      ],
      "metadata": {
        "execution": {
          "iopub.status.busy": "2023-12-09T23:34:06.228327Z",
          "iopub.execute_input": "2023-12-09T23:34:06.228783Z",
          "iopub.status.idle": "2023-12-09T23:34:17.142945Z",
          "shell.execute_reply.started": "2023-12-09T23:34:06.228748Z",
          "shell.execute_reply": "2023-12-09T23:34:17.141743Z"
        },
        "trusted": true,
        "id": "aLqhFJIwlqU9",
        "outputId": "798a57de-1735-49bf-ec2e-89fe42ef4086",
        "colab": {
          "base_uri": "https://localhost:8080/"
        }
      },
      "execution_count": 18,
      "outputs": [
        {
          "output_type": "stream",
          "name": "stdout",
          "text": [
            "i didnt feel humiliated\n",
            "[[3198, 3265, 220, 665], 0]\n"
          ]
        }
      ]
    },
    {
      "cell_type": "code",
      "source": [
        "new_val_data = preprocess_data(val_data)\n",
        "print(val_data['text'][0])\n",
        "print(new_val_data[0])"
      ],
      "metadata": {
        "execution": {
          "iopub.status.busy": "2023-12-09T23:34:17.150267Z",
          "iopub.execute_input": "2023-12-09T23:34:17.150654Z",
          "iopub.status.idle": "2023-12-09T23:34:19.245497Z",
          "shell.execute_reply.started": "2023-12-09T23:34:17.150622Z",
          "shell.execute_reply": "2023-12-09T23:34:19.24406Z"
        },
        "trusted": true,
        "id": "dT9qVaydlqU9",
        "outputId": "d2ea678f-4373-4276-9255-97c23e07cf09",
        "colab": {
          "base_uri": "https://localhost:8080/"
        }
      },
      "execution_count": 19,
      "outputs": [
        {
          "output_type": "stream",
          "name": "stdout",
          "text": [
            "im feeling quite sad and sorry for myself but ill snap out of it soon\n",
            "[[3205, 220, 595, 1335, 3199, 3326, 3206, 3227, 3207, 1326, 518, 1283, 1274, 1276, 3380], 0]\n"
          ]
        }
      ]
    },
    {
      "cell_type": "code",
      "source": [
        "# Splitting into train_X and train_y\n",
        "train_X = [row[0] for row in new_train_data]\n",
        "train_y = [row[1] for row in new_train_data]\n",
        "\n",
        "# Print the results\n",
        "print(\"train_X:\", train_X[0])\n",
        "print(\"train_y:\", train_y[0])"
      ],
      "metadata": {
        "execution": {
          "iopub.status.busy": "2023-12-09T23:34:19.247091Z",
          "iopub.execute_input": "2023-12-09T23:34:19.247558Z",
          "iopub.status.idle": "2023-12-09T23:34:19.258603Z",
          "shell.execute_reply.started": "2023-12-09T23:34:19.247512Z",
          "shell.execute_reply": "2023-12-09T23:34:19.257499Z"
        },
        "trusted": true,
        "id": "XXQWtEnolqU9",
        "outputId": "29745d62-53f0-4750-91f3-ba89650c2392",
        "colab": {
          "base_uri": "https://localhost:8080/"
        }
      },
      "execution_count": 20,
      "outputs": [
        {
          "output_type": "stream",
          "name": "stdout",
          "text": [
            "train_X: [3198, 3265, 220, 665]\n",
            "train_y: 0\n"
          ]
        }
      ]
    },
    {
      "cell_type": "code",
      "source": [
        "val_X = [row[0] for row in new_val_data]\n",
        "val_y = [row[1] for row in new_val_data]\n",
        "\n",
        "print(\"train_X:\", val_X[0])\n",
        "print(\"train_y:\", val_y[0])"
      ],
      "metadata": {
        "execution": {
          "iopub.status.busy": "2023-12-09T23:34:19.260145Z",
          "iopub.execute_input": "2023-12-09T23:34:19.261187Z",
          "iopub.status.idle": "2023-12-09T23:34:19.26962Z",
          "shell.execute_reply.started": "2023-12-09T23:34:19.261119Z",
          "shell.execute_reply": "2023-12-09T23:34:19.268682Z"
        },
        "trusted": true,
        "id": "rrp7Cmo3lqU9",
        "outputId": "027e66c7-aa62-4dfa-8892-34e2c41ff525",
        "colab": {
          "base_uri": "https://localhost:8080/"
        }
      },
      "execution_count": 21,
      "outputs": [
        {
          "output_type": "stream",
          "name": "stdout",
          "text": [
            "train_X: [3205, 220, 595, 1335, 3199, 3326, 3206, 3227, 3207, 1326, 518, 1283, 1274, 1276, 3380]\n",
            "train_y: 0\n"
          ]
        }
      ]
    },
    {
      "cell_type": "markdown",
      "source": [
        "### 3. 2 | Add Padding"
      ],
      "metadata": {
        "id": "LxU_sct5lqU9"
      }
    },
    {
      "cell_type": "code",
      "source": [
        "length_of_longest_sentence = len(max(train_X, key=len))\n",
        "print(length_of_longest_sentence)\n",
        "print(max(train_X, key=len))"
      ],
      "metadata": {
        "execution": {
          "iopub.status.busy": "2023-12-09T23:34:19.27079Z",
          "iopub.execute_input": "2023-12-09T23:34:19.271193Z",
          "iopub.status.idle": "2023-12-09T23:34:19.289427Z",
          "shell.execute_reply.started": "2023-12-09T23:34:19.271163Z",
          "shell.execute_reply": "2023-12-09T23:34:19.288184Z"
        },
        "trusted": true,
        "id": "BIxHX7dflqU9",
        "outputId": "b478d36b-5570-4450-a26d-d70077339827",
        "colab": {
          "base_uri": "https://localhost:8080/"
        }
      },
      "execution_count": 22,
      "outputs": [
        {
          "output_type": "stream",
          "name": "stdout",
          "text": [
            "66\n",
            "[3198, 613, 3250, 3588, 3217, 3204, 3198, 927, 3245, 1497, 3245, 1354, 3217, 3245, 1303, 1296, 3200, 2107, 1284, 1276, 3220, 220, 3598, 3213, 220, 1276, 3528, 3217, 7890, 4263, 3221, 5569, 1552, 3243, 3198, 4263, 3221, 1552, 5570, 5570, 3198, 3579, 5569, 3198, 7891, 1276, 3200, 3202, 1293, 3219, 1401, 3948, 3598, 3213, 3223, 239, 3528, 3213, 85, 3267, 579, 1658, 3206, 3201, 239, 1289]\n"
          ]
        }
      ]
    },
    {
      "cell_type": "code",
      "source": [
        "for i in range(len(train_X)):\n",
        "    for j in range(length_of_longest_sentence-len(train_X[i])):\n",
        "        train_X[i].append(0)\n",
        "\n",
        "for i in range(len(val_X)):\n",
        "    for j in range(length_of_longest_sentence-len(val_X[i])):\n",
        "        val_X[i].append(0)"
      ],
      "metadata": {
        "execution": {
          "iopub.status.busy": "2023-12-09T23:34:19.291569Z",
          "iopub.execute_input": "2023-12-09T23:34:19.292057Z",
          "iopub.status.idle": "2023-12-09T23:34:19.504825Z",
          "shell.execute_reply.started": "2023-12-09T23:34:19.292014Z",
          "shell.execute_reply": "2023-12-09T23:34:19.503478Z"
        },
        "trusted": true,
        "id": "of9m5RRLlqU-"
      },
      "execution_count": 23,
      "outputs": []
    },
    {
      "cell_type": "markdown",
      "source": [
        "### 3. 3 | List to Array (numpy)"
      ],
      "metadata": {
        "id": "DVZ3EvBSlqU-"
      }
    },
    {
      "cell_type": "code",
      "source": [
        "train_X = np.array(train_X)\n",
        "train_y = np.array(train_y)\n",
        "val_X = np.array(val_X)\n",
        "val_y = np.array(val_y)\n",
        "\n",
        "print(train_X.shape,train_y.shape)\n",
        "print(val_X.shape,val_y.shape)\n"
      ],
      "metadata": {
        "execution": {
          "iopub.status.busy": "2023-12-09T23:34:19.50644Z",
          "iopub.execute_input": "2023-12-09T23:34:19.506823Z",
          "iopub.status.idle": "2023-12-09T23:34:19.706661Z",
          "shell.execute_reply.started": "2023-12-09T23:34:19.50679Z",
          "shell.execute_reply": "2023-12-09T23:34:19.705465Z"
        },
        "trusted": true,
        "id": "3cqA6PorlqU-",
        "outputId": "bb1851ee-830e-4afd-bb09-d39101411d19",
        "colab": {
          "base_uri": "https://localhost:8080/"
        }
      },
      "execution_count": 24,
      "outputs": [
        {
          "output_type": "stream",
          "name": "stdout",
          "text": [
            "(16000, 66) (16000,)\n",
            "(3000, 66) (3000,)\n"
          ]
        }
      ]
    },
    {
      "cell_type": "code",
      "source": [
        "# Convert labels to one-hot encoding\n",
        "train_y_one_hot = to_categorical(train_y, num_classes=16000)\n",
        "val_y_one_hot = to_categorical(val_y, num_classes=16000)"
      ],
      "metadata": {
        "execution": {
          "iopub.status.busy": "2023-12-09T23:34:19.708608Z",
          "iopub.execute_input": "2023-12-09T23:34:19.709071Z",
          "iopub.status.idle": "2023-12-09T23:34:20.070019Z",
          "shell.execute_reply.started": "2023-12-09T23:34:19.709033Z",
          "shell.execute_reply": "2023-12-09T23:34:20.068962Z"
        },
        "trusted": true,
        "id": "dLY5bF9OlqU-"
      },
      "execution_count": 25,
      "outputs": []
    },
    {
      "cell_type": "markdown",
      "source": [
        "# 4 | Create model (LSTM)"
      ],
      "metadata": {
        "id": "s_P2GXBIlqU-"
      }
    },
    {
      "cell_type": "markdown",
      "source": [
        "### 4. 1 | Architechture of Bidirectional LSTM Neural Network"
      ],
      "metadata": {
        "id": "KBGV777olqU-"
      }
    },
    {
      "cell_type": "markdown",
      "source": [
        "![download.png](attachment:e3218baf-2240-45f3-8aac-e6956af5346e.png)"
      ],
      "metadata": {
        "id": "4NBg_oUKlqU-"
      }
    },
    {
      "cell_type": "markdown",
      "source": [
        "### 4. 2 | Bi- LSTM Neural Network Model training"
      ],
      "metadata": {
        "id": "VqJd7jNrlqU-"
      }
    },
    {
      "cell_type": "code",
      "source": [
        "model = Sequential()\n",
        "model.add(Embedding(16000, 100))\n",
        "model.add(Bidirectional(LSTM(150)))\n",
        "model.add(Dense(16000, activation='softmax'))\n",
        "adam = Adam(learning_rate=0.01)\n",
        "model.compile(loss='categorical_crossentropy', optimizer=adam, metrics=['accuracy'])\n",
        "history = model.fit(train_X, train_y_one_hot, epochs=25, verbose=1,validation_data=(val_X,val_y_one_hot))\n",
        "#print model.summary()\n",
        "print(model)"
      ],
      "metadata": {
        "execution": {
          "iopub.status.busy": "2023-12-09T23:34:20.071762Z",
          "iopub.execute_input": "2023-12-09T23:34:20.072253Z",
          "iopub.status.idle": "2023-12-10T00:07:40.037112Z",
          "shell.execute_reply.started": "2023-12-09T23:34:20.072209Z",
          "shell.execute_reply": "2023-12-10T00:07:40.036192Z"
        },
        "trusted": true,
        "id": "R6HGNXk9lqVD",
        "outputId": "10a39b55-509b-4b72-ebcf-3461b3f0149c",
        "colab": {
          "base_uri": "https://localhost:8080/"
        }
      },
      "execution_count": null,
      "outputs": [
        {
          "output_type": "stream",
          "name": "stdout",
          "text": [
            "Epoch 1/25\n",
            "\u001b[1m500/500\u001b[0m \u001b[32m━━━━━━━━━━━━━━━━━━━━\u001b[0m\u001b[37m\u001b[0m \u001b[1m178s\u001b[0m 348ms/step - accuracy: 0.3077 - loss: 2.0079 - val_accuracy: 0.2787 - val_loss: 1.7507\n",
            "Epoch 2/25\n",
            "\u001b[1m 76/500\u001b[0m \u001b[32m━━━\u001b[0m\u001b[37m━━━━━━━━━━━━━━━━━\u001b[0m \u001b[1m2:10\u001b[0m 308ms/step - accuracy: 0.3050 - loss: 1.7415"
          ]
        }
      ]
    },
    {
      "cell_type": "markdown",
      "source": [
        "# 5 | Resultd And Test"
      ],
      "metadata": {
        "id": "yUnadjg5lqVE"
      }
    },
    {
      "cell_type": "code",
      "source": [
        "last_accuracy = \"{:.3f}\".format(history.history['accuracy'][-1])\n",
        "print(\"Training Accuracy:\", last_accuracy)"
      ],
      "metadata": {
        "execution": {
          "iopub.status.busy": "2023-12-10T00:07:40.038709Z",
          "iopub.execute_input": "2023-12-10T00:07:40.039331Z",
          "iopub.status.idle": "2023-12-10T00:07:40.045016Z",
          "shell.execute_reply.started": "2023-12-10T00:07:40.039299Z",
          "shell.execute_reply": "2023-12-10T00:07:40.044147Z"
        },
        "trusted": true,
        "id": "iF21etq1lqVE",
        "outputId": "95f1d4c8-7a79-4a3c-d11a-14f289215833",
        "colab": {
          "base_uri": "https://localhost:8080/"
        }
      },
      "execution_count": 27,
      "outputs": [
        {
          "output_type": "stream",
          "name": "stdout",
          "text": [
            "Training Accuracy: 0.919\n"
          ]
        }
      ]
    },
    {
      "cell_type": "markdown",
      "source": [
        "### 5. 1 | Plotting Model Accuracy And Loss"
      ],
      "metadata": {
        "id": "ETSCJiqdlqVE"
      }
    },
    {
      "cell_type": "code",
      "source": [
        "plt.plot(history.history['accuracy'])\n",
        "plt.plot(history.history['val_accuracy'])\n",
        "plt.title('Training Accuracy vs Validation Accuracy')\n",
        "plt.ylabel('Accuracy')\n",
        "plt.xlabel('Epoch')\n",
        "plt.legend(['Train', 'Validation'], loc='upper left')\n",
        "plt.show()"
      ],
      "metadata": {
        "execution": {
          "iopub.status.busy": "2023-12-10T00:07:40.046644Z",
          "iopub.execute_input": "2023-12-10T00:07:40.047382Z",
          "iopub.status.idle": "2023-12-10T00:07:40.398966Z",
          "shell.execute_reply.started": "2023-12-10T00:07:40.047351Z",
          "shell.execute_reply": "2023-12-10T00:07:40.397619Z"
        },
        "trusted": true,
        "id": "RtSBDgzrlqVE",
        "outputId": "14bc30e6-ffa5-4919-d13c-162230d4f47a",
        "colab": {
          "base_uri": "https://localhost:8080/",
          "height": 472
        }
      },
      "execution_count": 28,
      "outputs": [
        {
          "output_type": "display_data",
          "data": {
            "text/plain": [
              "<Figure size 640x480 with 1 Axes>"
            ],
            "image/png": "[encoded data removed]"
          },
          "metadata": {}
        }
      ]
    },
    {
      "cell_type": "code",
      "source": [
        "plt.plot(history.history['loss'])\n",
        "plt.plot(history.history['val_loss'])\n",
        "plt.title('Training Loss vs Validation Loss')\n",
        "plt.ylabel('Loss')\n",
        "plt.xlabel('Epoch')\n",
        "plt.legend(['Train', 'Validation'], loc='upper left')\n",
        "plt.show()"
      ],
      "metadata": {
        "execution": {
          "iopub.status.busy": "2023-12-10T00:07:40.400973Z",
          "iopub.execute_input": "2023-12-10T00:07:40.401724Z",
          "iopub.status.idle": "2023-12-10T00:07:40.738538Z",
          "shell.execute_reply.started": "2023-12-10T00:07:40.401641Z",
          "shell.execute_reply": "2023-12-10T00:07:40.737237Z"
        },
        "trusted": true,
        "id": "3Gy0nvgflqVE",
        "outputId": "26195100-f773-4972-8384-f05dd32acf3e",
        "colab": {
          "base_uri": "https://localhost:8080/",
          "height": 472
        }
      },
      "execution_count": 29,
      "outputs": [
        {
          "output_type": "display_data",
          "data": {
            "text/plain": [
              "<Figure size 640x480 with 1 Axes>"
            ],
            "image/png": "[encoded data removed]"
          },
          "metadata": {}
        }
      ]
    },
    {
      "cell_type": "markdown",
      "source": [
        "### 5. 2 | Test The Model"
      ],
      "metadata": {
        "id": "qy1zFK3flqVE"
      }
    },
    {
      "cell_type": "code",
      "source": [
        "def get_text(text):\n",
        "    tokenizer3 = Tokenizer()\n",
        "    tokenizer3.fit_on_texts(text)\n",
        "    word_index3 = tokenizer3.word_index\n",
        "\n",
        "    stemmed_wordss = [stemmer.stem(word) for word in word_index3.keys()]\n",
        "\n",
        "    tokens_list= tokenizer2.texts_to_sequences([stemmed_wordss])[0]\n",
        "\n",
        "    for i in range(len(tokens_list)):\n",
        "        for j in range(length_of_longest_sentence-len(tokens_list)):\n",
        "            tokens_list.append(0)\n",
        "    return tokens_list\n"
      ],
      "metadata": {
        "execution": {
          "iopub.status.busy": "2023-12-10T00:07:40.740184Z",
          "iopub.execute_input": "2023-12-10T00:07:40.740667Z",
          "iopub.status.idle": "2023-12-10T00:07:40.750388Z",
          "shell.execute_reply.started": "2023-12-10T00:07:40.74062Z",
          "shell.execute_reply": "2023-12-10T00:07:40.74887Z"
        },
        "trusted": true,
        "id": "N6uZxjrolqVE"
      },
      "execution_count": 30,
      "outputs": []
    },
    {
      "cell_type": "code",
      "source": [
        " for _ in range(5):\n",
        "    random_number = random.randint(0, 1000)\n",
        "    num_to_predicte = random_number\n",
        "\n",
        "    test = get_text([test_data['text'][num_to_predicte]])\n",
        "\n",
        "    test = np.array(test)\n",
        "    test = test.reshape(1, len(test))\n",
        "\n",
        "    # Make predictions\n",
        "    predictions = model.predict(test)\n",
        "\n",
        "    predicted_class = np.argmax(predictions)\n",
        "    print()\n",
        "    print('Random value = ',random_number)\n",
        "    print(\"Predicted Class:\", predicted_class,labels_dict.get(predicted_class))\n",
        "    print(\"Actual Class:\", test_data['label'][num_to_predicte])\n",
        "    print()"
      ],
      "metadata": {
        "execution": {
          "iopub.status.busy": "2023-12-10T00:07:40.752069Z",
          "iopub.execute_input": "2023-12-10T00:07:40.752558Z",
          "iopub.status.idle": "2023-12-10T00:07:42.006234Z",
          "shell.execute_reply.started": "2023-12-10T00:07:40.752503Z",
          "shell.execute_reply": "2023-12-10T00:07:42.005235Z"
        },
        "trusted": true,
        "id": "acQqw1RPlqVF",
        "outputId": "517b94fc-79e8-4f89-f1b5-7e93f1da5c47",
        "colab": {
          "base_uri": "https://localhost:8080/"
        }
      },
      "execution_count": 31,
      "outputs": [
        {
          "output_type": "stream",
          "name": "stdout",
          "text": [
            "\u001b[1m1/1\u001b[0m \u001b[32m━━━━━━━━━━━━━━━━━━━━\u001b[0m\u001b[37m\u001b[0m \u001b[1m0s\u001b[0m 223ms/step\n",
            "\n",
            "Random value =  141\n",
            "Predicted Class: 0 sadness\n",
            "Actual Class: 0\n",
            "\n",
            "\u001b[1m1/1\u001b[0m \u001b[32m━━━━━━━━━━━━━━━━━━━━\u001b[0m\u001b[37m\u001b[0m \u001b[1m0s\u001b[0m 18ms/step\n",
            "\n",
            "Random value =  276\n",
            "Predicted Class: 1 joy\n",
            "Actual Class: 1\n",
            "\n",
            "\u001b[1m1/1\u001b[0m \u001b[32m━━━━━━━━━━━━━━━━━━━━\u001b[0m\u001b[37m\u001b[0m \u001b[1m0s\u001b[0m 19ms/step\n",
            "\n",
            "Random value =  811\n",
            "Predicted Class: 0 sadness\n",
            "Actual Class: 0\n",
            "\n",
            "\u001b[1m1/1\u001b[0m \u001b[32m━━━━━━━━━━━━━━━━━━━━\u001b[0m\u001b[37m\u001b[0m \u001b[1m0s\u001b[0m 18ms/step\n",
            "\n",
            "Random value =  878\n",
            "Predicted Class: 1 joy\n",
            "Actual Class: 1\n",
            "\n",
            "\u001b[1m1/1\u001b[0m \u001b[32m━━━━━━━━━━━━━━━━━━━━\u001b[0m\u001b[37m\u001b[0m \u001b[1m0s\u001b[0m 17ms/step\n",
            "\n",
            "Random value =  675\n",
            "Predicted Class: 1 joy\n",
            "Actual Class: 1\n",
            "\n"
          ]
        }
      ]
    },
    {
      "cell_type": "markdown",
      "source": [
        "### 5. 2 | Confusion Matrix"
      ],
      "metadata": {
        "id": "vEUcqKC7lqVF"
      }
    },
    {
      "cell_type": "code",
      "source": [
        "new_test_data=preprocess_data(test_data)\n",
        "\n",
        "test_X = [row[0] for row in new_train_data]\n",
        "test_y = [row[1] for row in new_train_data]\n",
        "\n",
        "for i in range(len(test_X)):\n",
        "    for j in range(length_of_longest_sentence-len(test_X[i])):\n",
        "        test_X[i].append(0)\n",
        "\n",
        "test_X = np.array(test_X)\n",
        "test_y = np.array(test_y)\n",
        "\n",
        "test_y_one_hot = to_categorical(test_y, num_classes=16000)"
      ],
      "metadata": {
        "execution": {
          "iopub.status.busy": "2023-12-10T00:07:42.007975Z",
          "iopub.execute_input": "2023-12-10T00:07:42.008917Z",
          "iopub.status.idle": "2023-12-10T00:07:42.928093Z",
          "shell.execute_reply.started": "2023-12-10T00:07:42.008872Z",
          "shell.execute_reply": "2023-12-10T00:07:42.926799Z"
        },
        "trusted": true,
        "id": "ApGZoQXBlqVF"
      },
      "execution_count": 32,
      "outputs": []
    },
    {
      "cell_type": "code",
      "source": [
        "y_pred = model.predict(test_X)\n",
        "y_pred_classes = np.argmax(y_pred, axis=1)"
      ],
      "metadata": {
        "execution": {
          "iopub.status.busy": "2023-12-10T00:07:42.930029Z",
          "iopub.execute_input": "2023-12-10T00:07:42.930379Z",
          "iopub.status.idle": "2023-12-10T00:08:06.502503Z",
          "shell.execute_reply.started": "2023-12-10T00:07:42.930349Z",
          "shell.execute_reply": "2023-12-10T00:08:06.501472Z"
        },
        "trusted": true,
        "id": "dnwr-Ji9lqVF"
      },
      "execution_count": null,
      "outputs": []
    },
    {
      "cell_type": "code",
      "source": [
        "import numpy as np\n",
        "y_true_labels = np.argmax(test_y_one_hot, axis=1)\n",
        "y_pred_classes = np.argmax(y_pred, axis=1)\n",
        "labels=['sadness','joy','love','anger','fear','surprise']\n",
        "#labels = list(set(labels).intersection(set(np.unique(y_true_labels)).union(set(np.unique(y_pred_classes)))))\n",
        "\n",
        "cm = confusion_matrix(y_true_labels, y_pred_classes)\n",
        "df_cm = pd.DataFrame(cm, labels, labels)\n",
        "ax = sns.heatmap(df_cm, annot=True, annot_kws={'size': 16}, square=True, cbar=False, fmt='g')\n",
        "ax.set_ylim(0, 6)\n",
        "plt.xlabel('Predicted')\n",
        "plt.ylabel('Actual')\n",
        "ax.invert_yaxis()\n",
        "plt.show()\n"
      ],
      "metadata": {
        "execution": {
          "iopub.status.busy": "2023-12-10T00:08:06.50376Z",
          "iopub.execute_input": "2023-12-10T00:08:06.504106Z",
          "iopub.status.idle": "2023-12-10T00:08:07.255121Z",
          "shell.execute_reply.started": "2023-12-10T00:08:06.504077Z",
          "shell.execute_reply": "2023-12-10T00:08:07.254235Z"
        },
        "trusted": true,
        "id": "4GjQTTdYlqVF",
        "outputId": "6e0e7b15-3440-41d6-afe9-340e3957c72f",
        "colab": {
          "base_uri": "https://localhost:8080/",
          "height": 248
        }
      },
      "execution_count": 3,
      "outputs": [
        {
          "output_type": "error",
          "ename": "NameError",
          "evalue": "name 'test_y_one_hot' is not defined",
          "traceback": [
            "\u001b[0;31m---------------------------------------------------------------------------\u001b[0m",
            "\u001b[0;31mNameError\u001b[0m                                 Traceback (most recent call last)",
            "\u001b[0;32m<ipython-input-3-dba777b38310>\u001b[0m in \u001b[0;36m<cell line: 2>\u001b[0;34m()\u001b[0m\n\u001b[1;32m      1\u001b[0m \u001b[0;32mimport\u001b[0m \u001b[0mnumpy\u001b[0m \u001b[0;32mas\u001b[0m \u001b[0mnp\u001b[0m\u001b[0;34m\u001b[0m\u001b[0;34m\u001b[0m\u001b[0m\n\u001b[0;32m----> 2\u001b[0;31m \u001b[0my_true_labels\u001b[0m \u001b[0;34m=\u001b[0m \u001b[0mnp\u001b[0m\u001b[0;34m.\u001b[0m\u001b[0margmax\u001b[0m\u001b[0;34m(\u001b[0m\u001b[0mtest_y_one_hot\u001b[0m\u001b[0;34m,\u001b[0m \u001b[0maxis\u001b[0m\u001b[0;34m=\u001b[0m\u001b[0;36m1\u001b[0m\u001b[0;34m)\u001b[0m\u001b[0;34m\u001b[0m\u001b[0;34m\u001b[0m\u001b[0m\n\u001b[0m\u001b[1;32m      3\u001b[0m \u001b[0my_pred_classes\u001b[0m \u001b[0;34m=\u001b[0m \u001b[0mnp\u001b[0m\u001b[0;34m.\u001b[0m\u001b[0margmax\u001b[0m\u001b[0;34m(\u001b[0m\u001b[0my_pred\u001b[0m\u001b[0;34m,\u001b[0m \u001b[0maxis\u001b[0m\u001b[0;34m=\u001b[0m\u001b[0;36m1\u001b[0m\u001b[0;34m)\u001b[0m\u001b[0;34m\u001b[0m\u001b[0;34m\u001b[0m\u001b[0m\n\u001b[1;32m      4\u001b[0m \u001b[0mlabels\u001b[0m\u001b[0;34m=\u001b[0m\u001b[0;34m[\u001b[0m\u001b[0;34m'sadness'\u001b[0m\u001b[0;34m,\u001b[0m\u001b[0;34m'joy'\u001b[0m\u001b[0;34m,\u001b[0m\u001b[0;34m'love'\u001b[0m\u001b[0;34m,\u001b[0m\u001b[0;34m'anger'\u001b[0m\u001b[0;34m,\u001b[0m\u001b[0;34m'fear'\u001b[0m\u001b[0;34m,\u001b[0m\u001b[0;34m'surprise'\u001b[0m\u001b[0;34m]\u001b[0m\u001b[0;34m\u001b[0m\u001b[0;34m\u001b[0m\u001b[0m\n\u001b[1;32m      5\u001b[0m \u001b[0;31m#labels = list(set(labels).intersection(set(np.unique(y_true_labels)).union(set(np.unique(y_pred_classes)))))\u001b[0m\u001b[0;34m\u001b[0m\u001b[0;34m\u001b[0m\u001b[0m\n",
            "\u001b[0;31mNameError\u001b[0m: name 'test_y_one_hot' is not defined"
          ]
        }
      ]
    }
  ]
}